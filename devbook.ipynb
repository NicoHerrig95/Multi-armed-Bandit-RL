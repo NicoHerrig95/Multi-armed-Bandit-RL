{
 "cells": [
  {
   "cell_type": "code",
   "execution_count": 1,
   "metadata": {},
   "outputs": [],
   "source": [
    "import numpy as np\n",
    "import matplotlib.pyplot as plt \n",
    "import pandas as pd"
   ]
  },
  {
   "cell_type": "markdown",
   "metadata": {},
   "source": [
    "References:\n",
    "https://towardsdatascience.com/multi-armed-bandits-and-reinforcement-learning-dc9001dcb8da"
   ]
  },
  {
   "cell_type": "markdown",
   "metadata": {},
   "source": [
    "To Do:\n",
    "- Multi Arm Bandit with options for stationarity and different action-value methods \n",
    "- Implement non-stationarity (i.e., Random Walk)\n",
    "- Implement Evaluation Function.\n",
    "\n"
   ]
  },
  {
   "cell_type": "markdown",
   "metadata": {},
   "source": []
  },
  {
   "cell_type": "markdown",
   "metadata": {},
   "source": []
  },
  {
   "cell_type": "code",
   "execution_count": 2,
   "metadata": {},
   "outputs": [],
   "source": [
    "class multiarm_bandit:\n",
    "\n",
    "    def __init__(self, k, epsilon, mu,  iterations, action_value_method = \"weighted\", alpha = None):\n",
    "        self.k = k\n",
    "        self.alpha = alpha\n",
    "        self.epsilon = epsilon\n",
    "        self.iters = iterations\n",
    "        self.n = 0 # initial step count\n",
    "        self.action_n = np.zeros(k) # initial count for executing each of k actions/pulling arms\n",
    "\n",
    "        # realized rewards\n",
    "        self.mean_reward = 0 # storer for rewar\n",
    "        self.reward = np.zeros(iterations) # array for storing realized reward values\n",
    "\n",
    "        # reward estimates for each arm/action\n",
    "        self.q = np.zeros(k)\n",
    "\n",
    "        self.value_method = action_value_method\n",
    "\n",
    "\n",
    "        # Expected values (mu)\n",
    "        # if mu shall be gaussian rv, sampling mu from N(0,1)\n",
    "        if mu == \"random\":\n",
    "            self.mu = np.random.normal(0,1,k)\n",
    "        \n",
    "        #if mu is inputted as list, converting to np.array\n",
    "        if isinstance(mu, list):\n",
    "            self.mu = np.array(mu)\n",
    "\n",
    "    def trigger(self):\n",
    "        # generating a rv from binomial distribution with\n",
    "        # P(rv = 1) = epsilon\n",
    "        # rv=1 -> non-greedy execution\n",
    "        # rv=0 -> greedy execution\n",
    "        rv = np.random.binomial(1, self.epsilon, 1)\n",
    "\n",
    "\n",
    "        # ACTION SELECTION\n",
    "        # first iteration\n",
    "        if self.n == 0:\n",
    "            # randomly selects integer from array[0,...,k-1] with unit probability\n",
    "            a = np.random.choice(self.k)\n",
    "        \n",
    "        # choosing greedy action if rv = 0\n",
    "        elif rv == 0:\n",
    "            a = np.argmax(self.q)\n",
    "\n",
    "        # choosing non-greedy action of rv = 1\n",
    "        elif rv == 1:\n",
    "            a = np.random.choice(self.k)\n",
    "\n",
    "        # sampling actual reward from respective gaussian -> N(mu_a, 1)\n",
    "        reward = np.random.normal(self.mu[a], 1)\n",
    "\n",
    "        # updating counts\n",
    "        self.n += 1\n",
    "        self.action_n[a] += 1\n",
    "\n",
    "        # calculating and updating mean reward\n",
    "        self.mean_reward = self.mean_reward + (1/self.n) * (reward - self.mean_reward)\n",
    "\n",
    "        # ACTION SELECTION VALUE UPDATE\n",
    "        # sample-average method (for stationary case)\n",
    "        if self.value_method == \"average\":\n",
    "            self.q[a] = self.q[a] + (1/self.action_n[a]) * (reward - self.q[a])\n",
    "\n",
    "        if self.value_method == \"weighted\":\n",
    "            self.q[a] = self.q[a] + self.alpha * (reward - self.q[a])\n",
    "            \n",
    "\n",
    "\n",
    "\n",
    "\n",
    "    def execute(self):\n",
    "        # executing bandit for given iterations\n",
    "\n",
    "        \n",
    "        for i in range(self.iters):\n",
    "            self.trigger()\n",
    "            self.reward[i] = self.mean_reward # output reward is the mean reward achieved over time\n",
    "\n",
    "        out = {\n",
    "            \"rewards\":self.reward,\n",
    "            \"q-estimates\":self.q\n",
    "        }\n",
    "\n",
    "        return(out)\n",
    "\n",
    "    def stats(self):\n",
    "\n",
    "        stats = {\n",
    "            \"action_counts\":self.action_n,\n",
    "            \"epsilon\": self.epsilon,\n",
    "            \"mu_values\":self.mu,\n",
    "            \"action_value_method\":self.value_method,\n",
    "        }\n",
    "\n",
    "        return stats\n",
    "        \n",
    "    def reset(self):\n",
    "        self.n = 0\n",
    "        self.action_n = np.zeros(self.k)\n",
    "        self.mean_reward = 0 # storer for rewar\n",
    "        self.reward = np.zero(self.iters) # array for storing realized reward values\n",
    "        self.q = np.zeros(self.k)\n"
   ]
  },
  {
   "cell_type": "code",
   "execution_count": 3,
   "metadata": {},
   "outputs": [],
   "source": [
    "# defining bandit\n",
    "bandit = multiarm_bandit(k=5, epsilon=0, mu = \"random\", iterations= 1000)"
   ]
  },
  {
   "cell_type": "code",
   "execution_count": 4,
   "metadata": {},
   "outputs": [],
   "source": [
    "def analytics_wrapper(model, plot_out=True):\n",
    "    import matplotlib.pyplot as plt\n",
    "    import numpy as np\n",
    "\n",
    "    results = model.execute()\n",
    "    rewards = results[\"rewards\"]\n",
    "\n",
    "\n",
    "    plt.plot(rewards, linestyle = 'dotted')\n",
    "    plt.show()\n",
    "\n",
    "    "
   ]
  },
  {
   "cell_type": "code",
   "execution_count": 5,
   "metadata": {},
   "outputs": [
    {
     "data": {
      "image/png": "[encoded data removed]",
      "text/plain": [
       "<Figure size 640x480 with 1 Axes>"
      ]
     },
     "metadata": {},
     "output_type": "display_data"
    }
   ],
   "source": [
    "analytics_wrapper(model = bandit)"
   ]
  },
  {
   "cell_type": "code",
   "execution_count": 6,
   "metadata": {},
   "outputs": [
    {
     "ename": "AttributeError",
     "evalue": "module 'numpy' has no attribute 'zero'",
     "output_type": "error",
     "traceback": [
      "\u001b[0;31m---------------------------------------------------------------------------\u001b[0m",
      "\u001b[0;31mAttributeError\u001b[0m                            Traceback (most recent call last)",
      "\u001b[1;32m/Users/nicoherrig/Desktop/projects/Multi-armed Bandit RL/devbook.ipynb Cell 8\u001b[0m line \u001b[0;36m1\n\u001b[0;32m----> <a href='vscode-notebook-cell:/Users/nicoherrig/Desktop/projects/Multi-armed%20Bandit%20RL/devbook.ipynb#X61sZmlsZQ%3D%3D?line=0'>1</a>\u001b[0m bandit\u001b[39m.\u001b[39;49mreset()\n\u001b[1;32m      <a href='vscode-notebook-cell:/Users/nicoherrig/Desktop/projects/Multi-armed%20Bandit%20RL/devbook.ipynb#X61sZmlsZQ%3D%3D?line=1'>2</a>\u001b[0m bandit\u001b[39m.\u001b[39mstats()\n",
      "\u001b[1;32m/Users/nicoherrig/Desktop/projects/Multi-armed Bandit RL/devbook.ipynb Cell 8\u001b[0m line \u001b[0;36m1\n\u001b[1;32m     <a href='vscode-notebook-cell:/Users/nicoherrig/Desktop/projects/Multi-armed%20Bandit%20RL/devbook.ipynb#X61sZmlsZQ%3D%3D?line=97'>98</a>\u001b[0m \u001b[39mself\u001b[39m\u001b[39m.\u001b[39maction_n \u001b[39m=\u001b[39m np\u001b[39m.\u001b[39mzeros(\u001b[39mself\u001b[39m\u001b[39m.\u001b[39mk)\n\u001b[1;32m     <a href='vscode-notebook-cell:/Users/nicoherrig/Desktop/projects/Multi-armed%20Bandit%20RL/devbook.ipynb#X61sZmlsZQ%3D%3D?line=98'>99</a>\u001b[0m \u001b[39mself\u001b[39m\u001b[39m.\u001b[39mmean_reward \u001b[39m=\u001b[39m \u001b[39m0\u001b[39m \u001b[39m# storer for rewar\u001b[39;00m\n\u001b[0;32m--> <a href='vscode-notebook-cell:/Users/nicoherrig/Desktop/projects/Multi-armed%20Bandit%20RL/devbook.ipynb#X61sZmlsZQ%3D%3D?line=99'>100</a>\u001b[0m \u001b[39mself\u001b[39m\u001b[39m.\u001b[39mreward \u001b[39m=\u001b[39m np\u001b[39m.\u001b[39;49mzero(\u001b[39mself\u001b[39m\u001b[39m.\u001b[39miters) \u001b[39m# array for storing realized reward values\u001b[39;00m\n\u001b[1;32m    <a href='vscode-notebook-cell:/Users/nicoherrig/Desktop/projects/Multi-armed%20Bandit%20RL/devbook.ipynb#X61sZmlsZQ%3D%3D?line=100'>101</a>\u001b[0m \u001b[39mself\u001b[39m\u001b[39m.\u001b[39mq \u001b[39m=\u001b[39m np\u001b[39m.\u001b[39mzeros(\u001b[39mself\u001b[39m\u001b[39m.\u001b[39mk)\n",
      "File \u001b[0;32m~/Desktop/projects/Multi-armed Bandit RL/virt_env/lib/python3.9/site-packages/numpy/__init__.py:333\u001b[0m, in \u001b[0;36m__getattr__\u001b[0;34m(attr)\u001b[0m\n\u001b[1;32m    330\u001b[0m     \u001b[39m\"\u001b[39m\u001b[39mRemoved in NumPy 1.25.0\u001b[39m\u001b[39m\"\u001b[39m\n\u001b[1;32m    331\u001b[0m     \u001b[39mraise\u001b[39;00m \u001b[39mRuntimeError\u001b[39;00m(\u001b[39m\"\u001b[39m\u001b[39mTester was removed in NumPy 1.25.\u001b[39m\u001b[39m\"\u001b[39m)\n\u001b[0;32m--> 333\u001b[0m \u001b[39mraise\u001b[39;00m \u001b[39mAttributeError\u001b[39;00m(\u001b[39m\"\u001b[39m\u001b[39mmodule \u001b[39m\u001b[39m{!r}\u001b[39;00m\u001b[39m has no attribute \u001b[39m\u001b[39m\"\u001b[39m\n\u001b[1;32m    334\u001b[0m                      \u001b[39m\"\u001b[39m\u001b[39m{!r}\u001b[39;00m\u001b[39m\"\u001b[39m\u001b[39m.\u001b[39mformat(\u001b[39m__name__\u001b[39m, attr))\n",
      "\u001b[0;31mAttributeError\u001b[0m: module 'numpy' has no attribute 'zero'"
     ]
    }
   ],
   "source": [
    "bandit.reset()\n",
    "bandit.stats()"
   ]
  }
 ],
 "metadata": {
  "kernelspec": {
   "display_name": "virt_env",
   "language": "python",
   "name": "python3"
  },
  "language_info": {
   "codemirror_mode": {
    "name": "ipython",
    "version": 3
   },
   "file_extension": ".py",
   "mimetype": "text/x-python",
   "name": "python",
   "nbconvert_exporter": "python",
   "pygments_lexer": "ipython3",
   "version": "3.9.12"
  }
 },
 "nbformat": 4,
 "nbformat_minor": 2
}
