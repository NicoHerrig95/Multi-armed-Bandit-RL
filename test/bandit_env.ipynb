{
 "cells": [
  {
   "cell_type": "code",
   "execution_count": 1,
   "metadata": {},
   "outputs": [],
   "source": [
    "import numpy as np\n",
    "import gym\n",
    "from gym import spaces"
   ]
  },
  {
   "cell_type": "code",
   "execution_count": 2,
   "metadata": {},
   "outputs": [],
   "source": [
    "\n",
    "\n",
    "class stochastic_bandit(gym.Env):\n",
    "    \"\"\"\n",
    "    The stochastic bandit problem.\n",
    "\n",
    "    Attributes:\n",
    "    TBC\n",
    "    \"\"\"\n",
    "    def __init__(self, size, reward_distribution = \"gaussian\"):\n",
    "\n",
    "\n",
    "        self.k = size\n",
    "        self.mu = np.zeros(self.k)\n",
    "        self.action_space = spaces.Discrete(self.k)\n",
    "        self.observation_space = spaces.Discrete(1)\n",
    "\n",
    "        # defining a vector (length k) of central values / expected values from a distribution \n",
    "        if reward_distribution == \"gaussian\":\n",
    "            self.mu = np.random.normal(self.k, 1, size = self.k)\n",
    " \n",
    "\n",
    "    def step(self, action):\n",
    "        assert self.action_space.contains(action)\n",
    "\n",
    "        reward = 0\n",
    "        done = True\n",
    "\n",
    "        reward = np.random.normal(self.mu[action], 1)\n",
    "        regret = max(self.mu) - reward\n",
    "\n",
    "        return reward, regret\n",
    "\n",
    "    def reset(self):\n",
    "        return 0\n",
    "\n",
    "    def render(self, mode='human', close=False):\n",
    "        pass\n"
   ]
  },
  {
   "cell_type": "code",
   "execution_count": 3,
   "metadata": {},
   "outputs": [
    {
     "data": {
      "text/plain": [
       "(10.576641543822994, 1.9131228528312754)"
      ]
     },
     "execution_count": 3,
     "metadata": {},
     "output_type": "execute_result"
    }
   ],
   "source": [
    "env = stochastic_bandit(size = 10)\n",
    "env.step(2)"
   ]
  },
  {
   "cell_type": "markdown",
   "metadata": {},
   "source": [
    "# Agent\n"
   ]
  },
  {
   "cell_type": "code",
   "execution_count": null,
   "metadata": {},
   "outputs": [],
   "source": []
  }
 ],
 "metadata": {
  "kernelspec": {
   "display_name": "virt_env",
   "language": "python",
   "name": "python3"
  },
  "language_info": {
   "codemirror_mode": {
    "name": "ipython",
    "version": 3
   },
   "file_extension": ".py",
   "mimetype": "text/x-python",
   "name": "python",
   "nbconvert_exporter": "python",
   "pygments_lexer": "ipython3",
   "version": "3.9.12"
  }
 },
 "nbformat": 4,
 "nbformat_minor": 2
}
