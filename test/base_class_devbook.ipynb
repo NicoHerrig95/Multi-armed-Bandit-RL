{
 "cells": [
  {
   "cell_type": "code",
   "execution_count": 1,
   "metadata": {},
   "outputs": [],
   "source": [
    "import sys\n",
    "sys.path.append(\"/Users/nicoherrig/Desktop/projects/Multi-armed Bandit RL/src/bandit_env\") # local path\n",
    "sys.path.append(\"/Users/nicoherrig/Desktop/projects/Multi-armed Bandit RL/src/agents\")\n",
    "\n"
   ]
  },
  {
   "cell_type": "code",
   "execution_count": 2,
   "metadata": {},
   "outputs": [],
   "source": [
    "from main import stochastic_bandit # environment import\n",
    "from utilities import Action # utilities import"
   ]
  },
  {
   "cell_type": "code",
   "execution_count": 3,
   "metadata": {},
   "outputs": [],
   "source": [
    "# defining environment\n",
    "\n",
    "bandit = stochastic_bandit(size = 10)"
   ]
  },
  {
   "cell_type": "code",
   "execution_count": 23,
   "metadata": {},
   "outputs": [],
   "source": [
    "class base_class_bandit(object):\n",
    "\n",
    "\n",
    "    def __init__(self, env):\n",
    "\n",
    "    # list of actions the agent can take.\n",
    "    # is element of [0, k-1]\n",
    "        self.actions = [] \n",
    "        self.k = env.k\n",
    "        for _ in range(self.k): \n",
    "            self.actions.append(Action(initial_value = None))\n",
    "\n",
    "        self.value_method = value_method\n",
    "\n",
    "\n",
    "    def test_init(self):\n",
    "        print(\"Sample estimate\",self.actions[1].q)\n",
    "        print(\"length of action vector: \", len(self.actions))\n",
    "\n",
    "    def select_action(self):\n",
    "        pass\n",
    "\n",
    "\n",
    "    def greedy(self):\n",
    "\n",
    "        greedy_table = []\n",
    "        for i in range(self.k):\n",
    "            greedy_table.append(self.actions[i].q) \n",
    "\n",
    "        a = np.argmax(greedy_table)\n",
    "        return a\n",
    "        \n",
    "\n",
    "\n",
    "    def q_estimation(self, reward, action):\n",
    "        self.actions[action].n += 1 # update action counter\n",
    "\n",
    "        # Method: average value estimation\n",
    "        self.actions[action].q = self.actions[action].q + (1/self.actions[action].n) * (reward - self.actions[action].q)\n",
    "\n",
    "\n",
    "\n",
    "\n",
    "\n",
    "\n",
    "\n",
    "\n"
   ]
  },
  {
   "cell_type": "code",
   "execution_count": 21,
   "metadata": {},
   "outputs": [
    {
     "name": "stdout",
     "output_type": "stream",
     "text": [
      "Sample estimate 0\n",
      "length of action vector:  10\n"
     ]
    }
   ],
   "source": [
    "test_bandit = base_class_bandit(env = bandit)\n",
    "test_bandit.test_init()"
   ]
  },
  {
   "cell_type": "code",
   "execution_count": 24,
   "metadata": {},
   "outputs": [
    {
     "name": "stdout",
     "output_type": "stream",
     "text": [
      "0\n"
     ]
    },
    {
     "data": {
      "text/plain": [
       "0"
      ]
     },
     "execution_count": 24,
     "metadata": {},
     "output_type": "execute_result"
    }
   ],
   "source": [
    "test_bandit = base_class_bandit(env = bandit)\n",
    "test_bandit.greedy()"
   ]
  },
  {
   "cell_type": "code",
   "execution_count": 11,
   "metadata": {},
   "outputs": [
    {
     "data": {
      "text/plain": [
       "3"
      ]
     },
     "execution_count": 11,
     "metadata": {},
     "output_type": "execute_result"
    }
   ],
   "source": [
    "import numpy as np\n",
    "x = [0,9,300,400]\n",
    "\n",
    "np.argmax(x)"
   ]
  }
 ],
 "metadata": {
  "kernelspec": {
   "display_name": "virt_env",
   "language": "python",
   "name": "python3"
  },
  "language_info": {
   "codemirror_mode": {
    "name": "ipython",
    "version": 3
   },
   "file_extension": ".py",
   "mimetype": "text/x-python",
   "name": "python",
   "nbconvert_exporter": "python",
   "pygments_lexer": "ipython3",
   "version": "3.9.12"
  }
 },
 "nbformat": 4,
 "nbformat_minor": 2
}
