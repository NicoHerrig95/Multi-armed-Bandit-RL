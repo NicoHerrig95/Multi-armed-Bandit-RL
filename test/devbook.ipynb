{
 "cells": [
  {
   "cell_type": "code",
   "execution_count": 1,
   "metadata": {},
   "outputs": [],
   "source": [
    "import numpy as np \n",
    "import matplotlib.pyplot as plt\n",
    "\n",
    "''' \n",
    "'''\n",
    "\n",
    "class multiarmed_bandit:\n",
    "    '''\n",
    "    A flexible class, producing an object which acts as a bandit problem. \n",
    "    Arguments:\n",
    "    k: number of arms/actions\n",
    "    epsilon: probability of choosing non-greedy action\n",
    "    iterations: number of iterations\n",
    "    mu: mean values for actual rewards, which follow a defined theoretical probability distribution [\"random\", list of length k]\n",
    "    action_value_method: the specified method for calculating the estimated rewards [\"random\", \"weighted\"]\n",
    "    alpha: step size parameter for action value method \"weighted\"\n",
    "    stationarity: indicates whether bandit problem shall behave stationary or non-stationary [\"True\",\"False\"]\n",
    "    initialisation: initial values for Q estimates [\"default\", \"optimistic\"]\n",
    "    init_values: if initialisation == \"optimistic\", the model requires a list (length k) of initial values for Q estimates\n",
    "    seed: integer value for random seed generation\n",
    "    '''\n",
    "    \n",
    "\n",
    "    def __init__(\n",
    "        self,\n",
    "        k = 10,\n",
    "        epsilon = 0,\n",
    "        mu = \"random\", \n",
    "        iterations = 1000, \n",
    "        action_value_method = \"average\", \n",
    "        alpha = None, \n",
    "        stationarity = True, \n",
    "        initialisation = \"default\",\n",
    "        init_values = None,\n",
    "        seed = None):\n",
    "\n",
    "        np.random.seed(seed)\n",
    "\n",
    "\n",
    "        self.k = k\n",
    "        self.alpha = alpha\n",
    "        self.epsilon = epsilon\n",
    "        self.iters = iterations\n",
    "        self.n = 0 # initial step count\n",
    "        self.action_n = np.zeros(k) # initial count for executing each of k actions/pulling arms\n",
    "\n",
    "        # TRUE/REALIZED REWARDS\n",
    "        # array for storing realized reward values\n",
    "        self.realized_reward = None # empty variable for realized reward\n",
    "        self.mean_reward = 0 # variable for mean reward over time \n",
    "        self.rewards = np.zeros(iterations) # storer for realized reward per iteration\n",
    "        self.rewards_avg = np.zeros(iterations) # storer mean reward over time \n",
    "        \n",
    "\n",
    "        ##### REWARD ESTIMATES Q(a) #####\n",
    "        # initial values\n",
    "        if initialisation == \"default\":\n",
    "            self.q = np.zeros(k)\n",
    "        elif initialisation == \"optimistic\" and isinstance(init_values, list):\n",
    "            self.q =np.array(init_values)\n",
    "        \n",
    "        # defining method\n",
    "        self.value_method = action_value_method\n",
    "\n",
    "        # table for estimare tracking\n",
    "        self.q_tracker = np.zeros((self.iters, self.k))\n",
    "\n",
    "\n",
    "        # Expected values (mu) for rewards\n",
    "        # if mu shall be gaussian rv, sampling mu from N(0,1)\n",
    "        if mu == \"random\":\n",
    "            self.mu = np.random.normal(0,1,k)\n",
    "        \n",
    "        #if mu is inputted as list, converting to np.array\n",
    "        if isinstance(mu, list):\n",
    "            self.mu = np.array(mu)\n",
    "\n",
    "\n",
    "        # stationarity boolean + storer\n",
    "        if stationarity == False:\n",
    "            self.stationarity = False\n",
    "            self.rw_increment = np.zeros(k)\n",
    "        else:\n",
    "            self.stationarity = True\n",
    "\n",
    "\n",
    "        self.seed = seed\n",
    "\n",
    "    def trigger(self):\n",
    "\n",
    "        # generating a rv from binomial distribution with\n",
    "        # P(rv = 1) = epsilon\n",
    "        # rv=1 -> non-greedy execution\n",
    "        # rv=0 -> greedy execution\n",
    "        rv = np.random.binomial(1, self.epsilon, 1)\n",
    "\n",
    "\n",
    "        # ACTION SELECTION\n",
    "        # first iteration\n",
    "        if self.n == 0:\n",
    "            # randomly selects integer from array[0,...,k-1] with unit probability\n",
    "            a = np.random.choice(self.k)\n",
    "        \n",
    "        # choosing greedy action if rv = 0\n",
    "        elif rv == 0:\n",
    "            a = np.argmax(self.q)\n",
    "\n",
    "        # choosing non-greedy action of rv = 1\n",
    "        elif rv == 1:\n",
    "            a = np.random.choice(self.k)\n",
    "\n",
    "        if self.stationarity == True:\n",
    "            # sampling actual reward from respective gaussian -> N(mu_a, 1)\n",
    "            self.realized_reward = np.random.normal(self.mu[a], 1)\n",
    "\n",
    "        if self.stationarity == False:\n",
    "            # adding random term to increment vector for random walk simulation\n",
    "            self.rw_increment += np.random.normal(0,0.1, size = self.k) \n",
    "            self.realized_reward = np.random.normal(self.mu[a], 1) + self.rw_increment[a]\n",
    "\n",
    "\n",
    "        # updating counts\n",
    "        self.n += 1 \n",
    "        \n",
    "        self.action_n[a] += 1\n",
    "\n",
    "        # calculating and updating mean reward\n",
    "        self.mean_reward = self.mean_reward + (1/self.n) * (self.realized_reward - self.mean_reward)\n",
    "\n",
    "        # ACTION SELECTION VALUE UPDATE\n",
    "        # sample-average method (for stationary case)\n",
    "        if self.value_method == \"average\":\n",
    "            self.q[a] = self.q[a] + (1/self.action_n[a]) * (self.realized_reward - self.q[a])\n",
    "\n",
    "        if self.value_method == \"weighted\":\n",
    "            self.q[a] = self.q[a] + self.alpha * (self.realized_reward - self.q[a])\n",
    "            \n",
    "\n",
    "    def execute(self):\n",
    "        # executing bandit for given iterations\n",
    "\n",
    "\n",
    "        # loop over iterations/steps\n",
    "        for i in range(self.iters):\n",
    "            self.trigger()\n",
    "\n",
    "            # storing results\n",
    "            self.rewards[i] = self.realized_reward # storing the total realized reward in output vector\n",
    "            self.rewards_avg[i] = self.mean_reward # storing the mean reward at t into corresponding storing vector\n",
    "            self.q_tracker[i] = self.q\n",
    "\n",
    "        out = {\n",
    "            \"realized rewards\":self.rewards,\n",
    "            \"average rewards\":self.rewards_avg,\n",
    "            \"q-estimates\":self.q_tracker,\n",
    "            \"mu-values\":self.mu,\n",
    "            \"action counter\": self.action_n\n",
    "        }\n",
    "\n",
    "        return(out)\n",
    "    \n",
    "    # list of all statistics\n",
    "    def stats(self):\n",
    "\n",
    "        stats = {\n",
    "            \"realized rewards\":self.rewards,\n",
    "            \"average rewards\":self.rewards_avg,\n",
    "            \"q-estimates\":self.q,\n",
    "            \"mu-values\":self.mu,\n",
    "            \"action counter\":self.action_n,\n",
    "            \"epsilon\": self.epsilon,\n",
    "            \"mu values\":self.mu,\n",
    "            \"action_value_method\":self.value_method,\n",
    "            \"number of arms\":self.k,\n",
    "            \"alpha\":self.alpha,\n",
    "            \"epsilon\": self.epsilon,\n",
    "            \"iterations\": self.iters,\n",
    "            \"step count\": self.n,\n",
    "            \"action count\":self.action_n\n",
    "        }\n",
    "\n",
    "        return stats\n",
    "\n",
    "    def tracking(self):\n",
    "        out = {\n",
    "            \"test\": self.q_tracker\n",
    "        }\n",
    "\n",
    "\n",
    "    # envorinment reset\n",
    "    def reset(self):\n",
    "        self.n = 0\n",
    "        self.action_n = np.zeros(self.k)\n",
    "        self.mean_reward = 0 \n",
    "        self.realized_reward = 0 \n",
    "        self.rewards_avg = np.zeros(self.iters)\n",
    "        self.rewards = np.zeros(self.iters) # array for storing realized reward values\n",
    "        self.q = np.zeros(self.k)\n",
    "        self.q_tracker = np.zeros((self.iters, self.k))\n"
   ]
  },
  {
   "cell_type": "code",
   "execution_count": null,
   "metadata": {},
   "outputs": [],
   "source": [
    "class visualiser:\n",
    "    def __init__(self, bandit):\n",
    "        self.results = bandit.execute()\n",
    "\n",
    "    def total_rewards(self):\n",
    "        plt.plot(self.results['realized rewards'])\n",
    "        plt.show()\n",
    "\n",
    "\n",
    "    def q_estimates(self):\n",
    "        estimate_table = self.results[\"q-estimates\"]\n",
    "        for i in range(estimate_table.shape[1]):\n",
    "            plt.plot(estimate_table[:,i], label = \"Q(a = {})\".format(i+1)) \n",
    "\n",
    "        plt.legend() \n",
    "        plt.show()\n",
    "\n",
    "    def action_counts(self):\n",
    "        fig, ax = plt.subplots()\n",
    "        counts = self.results[\"action counter\"]\n",
    "        actions = [str(i+1) for i in list(range(counts[\"action counter\"].shape[0]))]\n",
    "        ax.bar(actions, counts)\n",
    "\n",
    "        ax.set_ylabel('total count')\n",
    "        ax.set_xlabel(\"action\")\n",
    "        ax.set_title('action counts')\n",
    "\n",
    "        plt.show()\n",
    "        \n",
    "        "
   ]
  },
  {
   "cell_type": "code",
   "execution_count": 17,
   "metadata": {},
   "outputs": [
    {
     "data": {
      "image/png": "[encoded data removed]",
      "text/plain": [
       "<Figure size 640x480 with 1 Axes>"
      ]
     },
     "metadata": {},
     "output_type": "display_data"
    }
   ],
   "source": [
    "\n",
    "model = multiarmed_bandit(action_value_method=\"weighted\", alpha = 0.6)\n",
    "results = model.execute()\n",
    "plot = plt.plot(results[\"average rewards\"])\n",
    "model.reset()"
   ]
  },
  {
   "cell_type": "code",
   "execution_count": null,
   "metadata": {},
   "outputs": [],
   "source": []
  },
  {
   "cell_type": "code",
   "execution_count": 29,
   "metadata": {},
   "outputs": [
    {
     "data": {
      "text/plain": [
       "array([  1.,  25., 658.,  24.,  21.,   5., 193.,  71.,   1.,   1.])"
      ]
     },
     "execution_count": 29,
     "metadata": {},
     "output_type": "execute_result"
    }
   ],
   "source": [
    "results[\"action counter\"]"
   ]
  },
  {
   "cell_type": "code",
   "execution_count": 55,
   "metadata": {},
   "outputs": [
    {
     "data": {
      "image/png": "[encoded data removed]",
      "text/plain": [
       "<Figure size 640x480 with 1 Axes>"
      ]
     },
     "metadata": {},
     "output_type": "display_data"
    }
   ],
   "source": []
  },
  {
   "cell_type": "code",
   "execution_count": 47,
   "metadata": {},
   "outputs": [
    {
     "ename": "IndexError",
     "evalue": "tuple index out of range",
     "output_type": "error",
     "traceback": [
      "\u001b[0;31m---------------------------------------------------------------------------\u001b[0m",
      "\u001b[0;31mIndexError\u001b[0m                                Traceback (most recent call last)",
      "\u001b[1;32m/Users/nicoherrig/Desktop/projects/Multi-armed Bandit RL/test/devbook.ipynb Cell 8\u001b[0m line \u001b[0;36m1\n\u001b[0;32m----> <a href='vscode-notebook-cell:/Users/nicoherrig/Desktop/projects/Multi-armed%20Bandit%20RL/test/devbook.ipynb#Y212sZmlsZQ%3D%3D?line=0'>1</a>\u001b[0m [\u001b[39m\"\u001b[39m\u001b[39maction \u001b[39m\u001b[39m\"\u001b[39m\u001b[39m+\u001b[39m\u001b[39mstr\u001b[39m(i\u001b[39m+\u001b[39m\u001b[39m1\u001b[39m) \u001b[39mfor\u001b[39;00m i \u001b[39min\u001b[39;00m \u001b[39mlist\u001b[39m(\u001b[39mrange\u001b[39m(results[\u001b[39m\"\u001b[39;49m\u001b[39maction counter\u001b[39;49m\u001b[39m\"\u001b[39;49m]\u001b[39m.\u001b[39;49mshape[\u001b[39m1\u001b[39;49m]))]\n",
      "\u001b[0;31mIndexError\u001b[0m: tuple index out of range"
     ]
    }
   ],
   "source": [
    "[\"action \"+str(i+1) for i in list(range(results[\"action counter\"].shape[1]))]"
   ]
  },
  {
   "cell_type": "code",
   "execution_count": 50,
   "metadata": {},
   "outputs": [
    {
     "data": {
      "text/plain": [
       "10"
      ]
     },
     "execution_count": 50,
     "metadata": {},
     "output_type": "execute_result"
    }
   ],
   "source": [
    "results[\"action counter\"].shape[0]"
   ]
  },
  {
   "cell_type": "code",
   "execution_count": 44,
   "metadata": {},
   "outputs": [
    {
     "data": {
      "text/plain": [
       "['action1',\n",
       " 'action2',\n",
       " 'action3',\n",
       " 'action4',\n",
       " 'action5',\n",
       " 'action6',\n",
       " 'action7',\n",
       " 'action8',\n",
       " 'action9',\n",
       " 'action10']"
      ]
     },
     "execution_count": 44,
     "metadata": {},
     "output_type": "execute_result"
    }
   ],
   "source": []
  }
 ],
 "metadata": {
  "kernelspec": {
   "display_name": "virt_env",
   "language": "python",
   "name": "python3"
  },
  "language_info": {
   "codemirror_mode": {
    "name": "ipython",
    "version": 3
   },
   "file_extension": ".py",
   "mimetype": "text/x-python",
   "name": "python",
   "nbconvert_exporter": "python",
   "pygments_lexer": "ipython3",
   "version": "3.9.12"
  }
 },
 "nbformat": 4,
 "nbformat_minor": 2
}
