{
 "cells": [
  {
   "cell_type": "code",
   "execution_count": 2,
   "metadata": {},
   "outputs": [],
   "source": [
    "import sys\n",
    "sys.path.append(\"/Users/nicoherrig/Desktop/projects/Multi-armed Bandit RL/src/bandit_env\") # local path\n",
    "sys.path.append(\"/Users/nicoherrig/Desktop/projects/Multi-armed Bandit RL/src/agents\")"
   ]
  },
  {
   "cell_type": "code",
   "execution_count": 4,
   "metadata": {},
   "outputs": [],
   "source": [
    "from main import stochastic_bandit # environment import\n",
    "from utilities import Action # utilities import\n",
    "from base_class import base_class_bandit # base class "
   ]
  },
  {
   "cell_type": "code",
   "execution_count": null,
   "metadata": {},
   "outputs": [],
   "source": [
    "class EpsilonGreedyAgent(base_class_bandit):\n",
    "\n",
    "    def __init__(self, epsilon):\n",
    "        self.epsilon = epsilon\n",
    "        super().__init__(env) # init from base_class_bandit\n",
    "\n",
    "    def select_action(self):\n",
    "\n",
    "        rv = np.random.binomial(1, self.epsilon, 1)\n",
    "\n",
    "        if ... \n",
    "        \n",
    "\n",
    "\n",
    "\n",
    "        "
   ]
  }
 ],
 "metadata": {
  "kernelspec": {
   "display_name": "virt_env",
   "language": "python",
   "name": "python3"
  },
  "language_info": {
   "codemirror_mode": {
    "name": "ipython",
    "version": 3
   },
   "file_extension": ".py",
   "mimetype": "text/x-python",
   "name": "python",
   "nbconvert_exporter": "python",
   "pygments_lexer": "ipython3",
   "version": "3.9.12"
  }
 },
 "nbformat": 4,
 "nbformat_minor": 2
}
