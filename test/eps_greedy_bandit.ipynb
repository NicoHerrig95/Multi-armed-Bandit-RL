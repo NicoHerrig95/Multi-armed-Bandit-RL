{
 "cells": [
  {
   "cell_type": "code",
   "execution_count": 1,
   "metadata": {},
   "outputs": [],
   "source": [
    "import sys\n",
    "sys.path.append(\"/Users/nicoherrig/Desktop/projects/Multi-armed Bandit RL/src/bandit_env\") # local path\n",
    "sys.path.append(\"/Users/nicoherrig/Desktop/projects/Multi-armed Bandit RL/src/agents\")\n",
    "sys.path.append(\"/Users/nicoherrig/Desktop/projects/Multi-armed Bandit RL/src\")"
   ]
  },
  {
   "cell_type": "code",
   "execution_count": 2,
   "metadata": {},
   "outputs": [],
   "source": [
    "from bandit_problem import stochastic_bandit # environment import\n",
    "\n",
    "from agents import EpsilonGreedyAgent, RandomAgent # agents import"
   ]
  },
  {
   "cell_type": "code",
   "execution_count": 3,
   "metadata": {},
   "outputs": [],
   "source": [
    "# defining test environment\n",
    "\n",
    "env = stochastic_bandit(size = 10) # 10-armed stochastic bandit as test case\n",
    "agent_eps = EpsilonGreedyAgent(env = env, epsilon= 0.2, name = \"Epsilon Agent\")\n",
    "agent_random = RandomAgent(env = env, name = \"Random Agent\")"
   ]
  },
  {
   "cell_type": "code",
   "execution_count": 4,
   "metadata": {},
   "outputs": [
    {
     "name": "stdout",
     "output_type": "stream",
     "text": [
      "Epsilon Agent\n"
     ]
    }
   ],
   "source": [
    "Bandit = Multiarmed_Bandit"
   ]
  },
  {
   "cell_type": "code",
   "execution_count": null,
   "metadata": {},
   "outputs": [],
   "source": []
  }
 ],
 "metadata": {
  "kernelspec": {
   "display_name": "virt_env",
   "language": "python",
   "name": "python3"
  },
  "language_info": {
   "codemirror_mode": {
    "name": "ipython",
    "version": 3
   },
   "file_extension": ".py",
   "mimetype": "text/x-python",
   "name": "python",
   "nbconvert_exporter": "python",
   "pygments_lexer": "ipython3",
   "version": "3.9.12"
  }
 },
 "nbformat": 4,
 "nbformat_minor": 2
}
